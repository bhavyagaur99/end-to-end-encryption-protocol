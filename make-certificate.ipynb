{
 "cells": [
  {
   "cell_type": "code",
   "execution_count": 16,
   "metadata": {},
   "outputs": [],
   "source": [
    "from Crypto.Cipher import AES\n",
    "from Crypto.Random import get_random_bytes\n",
    "from Crypto.Util.Padding import pad, unpad\n",
    "from Crypto.Signature import pkcs1_15\n",
    "from Crypto.Hash import SHA3_256\n",
    "from Crypto.PublicKey import RSA\n",
    "import yaml\n",
    "import base64"
   ]
  },
  {
   "cell_type": "code",
   "execution_count": 17,
   "metadata": {},
   "outputs": [],
   "source": [
    "# Some helpful functions\n",
    "\n",
    "def sign_with_rsa_pkcs1v15_and_sha3_256(private_key_pem, data_bytes):\n",
    "    # Import the private key from pem format\n",
    "    rsa_private_key = RSA.import_key(private_key_pem)\n",
    "    # Sign the data\n",
    "    signature = pkcs1_15.new(rsa_private_key).sign(SHA3_256.new(data_bytes))\n",
    "    # Return the signature\n",
    "    return signature\n",
    "\n",
    "\n",
    "def verify_signature_with_rsa_pkcs1v15_and_sha3_256(public_key_pem, data_bytes, signature):\n",
    "    # Import the public key from pem format\n",
    "    rsa_public_key = RSA.import_key(public_key_pem)\n",
    "    # Verify the signature\n",
    "    try:\n",
    "        pkcs1_15.new(rsa_public_key).verify(SHA3_256.new(data_bytes), signature)\n",
    "        return True\n",
    "    except (ValueError, TypeError):\n",
    "        return False\n",
    "\n",
    "\n",
    "def encode_bytes_to_base64_string(bytes):\n",
    "    return base64.b64encode(bytes).decode('utf-8')\n",
    "\n",
    "\n",
    "def decode_base64_string_to_bytes(base64_string):\n",
    "    return base64.b64decode(base64_string)\n"
   ]
  },
  {
   "cell_type": "code",
   "execution_count": 23,
   "metadata": {},
   "outputs": [],
   "source": [
    "# Generate RSA key pair for entities\n",
    "def generate_public_private_key_pair(filename):\n",
    "    # Generate a new RSA key pair with a key length of 2048 bits\n",
    "    key = RSA.generate(2048)\n",
    "\n",
    "    # Extract the public and private keys as byte strings\n",
    "    private_key = key.export_key()\n",
    "    public_key = key.publickey().export_key()\n",
    "\n",
    "    with open(f'{filename}.pri.pem', 'w') as f:\n",
    "        f.write(private_key.decode('utf-8'))\n",
    "    \n",
    "    with open(f'{filename}.pub.pem', 'w') as f:\n",
    "        f.write(public_key.decode('utf-8'))\n",
    "\n",
    "# Generate a new RSA key pair with a key length of 2048 bits for the CA\n",
    "generate_public_private_key_pair('temp-cert/client-c')"
   ]
  },
  {
   "cell_type": "code",
   "execution_count": 26,
   "metadata": {},
   "outputs": [],
   "source": [
    "# Generate the certificates using entities\n",
    "def generate_certificate(ID, CA_ID):\n",
    "    # Load the private key of the CA\n",
    "    private_key_file = f'temp-cert/{CA_ID}.pri.pem'\n",
    "    with open(private_key_file, 'r') as f:\n",
    "        private_key = f.read()\n",
    "\n",
    "    # read the public key of the ID\n",
    "    with open(f'temp-cert/{ID}.pub.pem', 'rb') as f:\n",
    "        public_key_bytes = f.read()\n",
    "\n",
    "    # Encode the public key to base64\n",
    "    public_key_base64 = encode_bytes_to_base64_string(public_key_bytes)\n",
    "\n",
    "    # Total string\n",
    "    total_string = ID + public_key_base64\n",
    "    total_bytes = total_string.encode('utf-8')\n",
    "\n",
    "    # Create a signature\n",
    "    signature = sign_with_rsa_pkcs1v15_and_sha3_256(private_key, total_bytes)\n",
    "    signature_base64 = encode_bytes_to_base64_string(signature)\n",
    "    \n",
    "    # Make the dictionary\n",
    "    certificate = {\n",
    "        'name': ID,\n",
    "        'public-key-base64': public_key_base64,\n",
    "        'signature-base64': signature_base64\n",
    "    }\n",
    "\n",
    "    # Save the certificate to a file in json format\n",
    "    with open(f'temp-cert/{ID}.crt', 'w') as f:\n",
    "        yaml.dump(certificate, f, indent=4)\n",
    "\n",
    "generate_certificate('client-c', 'ca')\n"
   ]
  },
  {
   "cell_type": "code",
   "execution_count": 27,
   "metadata": {},
   "outputs": [
    {
     "name": "stdout",
     "output_type": "stream",
     "text": [
      "True\n",
      "True\n",
      "True\n",
      "True\n"
     ]
    }
   ],
   "source": [
    "# Useful for validating certificates\n",
    "\n",
    "def validate_certificate(cert_string):\n",
    "    # Get the public key of the CA\n",
    "    with open('temp-cert/ca.pub.pem', 'r') as f:\n",
    "        public_key_ca = f.read()\n",
    "    # Validate the certificate\n",
    "    certificate = yaml.load(cert_string, Loader=yaml.SafeLoader)\n",
    "    # Extract the public key and signature from the certificate\n",
    "    name = certificate['name']\n",
    "    public_key_base64 = certificate['public-key-base64']\n",
    "    signature_base64 = certificate['signature-base64']\n",
    "    # Decode the public key and signature from base64\n",
    "    signature = decode_base64_string_to_bytes(signature_base64)\n",
    "    # generate total string\n",
    "    total_string = name + public_key_base64\n",
    "    total_bytes = total_string.encode('utf-8')\n",
    "    # Verify the signature\n",
    "    return verify_signature_with_rsa_pkcs1v15_and_sha3_256(public_key_ca, total_bytes, signature)\n",
    "\n",
    "\n",
    "def validate_certificate_file(filename):\n",
    "    with open(filename, 'r') as f:\n",
    "        cert_string = f.read()\n",
    "    return validate_certificate(cert_string)\n",
    "\n",
    "\n",
    "print(validate_certificate_file('temp-cert/server-s.crt'))\n",
    "print(validate_certificate_file('temp-cert/client-a.crt'))\n",
    "print(validate_certificate_file('temp-cert/client-b.crt'))\n",
    "print(validate_certificate_file('temp-cert/client-c.crt'))"
   ]
  }
 ],
 "metadata": {
  "kernelspec": {
   "display_name": "venv",
   "language": "python",
   "name": "python3"
  },
  "language_info": {
   "codemirror_mode": {
    "name": "ipython",
    "version": 3
   },
   "file_extension": ".py",
   "mimetype": "text/x-python",
   "name": "python",
   "nbconvert_exporter": "python",
   "pygments_lexer": "ipython3",
   "version": "3.11.2"
  },
  "orig_nbformat": 4
 },
 "nbformat": 4,
 "nbformat_minor": 2
}
